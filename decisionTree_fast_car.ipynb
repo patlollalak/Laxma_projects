{
  "nbformat": 4,
  "nbformat_minor": 0,
  "metadata": {
    "colab": {
      "name": "decisionTree_fast_car.ipynb",
      "provenance": [],
      "collapsed_sections": [],
      "include_colab_link": true
    },
    "kernelspec": {
      "name": "python3",
      "display_name": "Python 3"
    }
  },
  "cells": [
    {
      "cell_type": "markdown",
      "metadata": {
        "id": "view-in-github",
        "colab_type": "text"
      },
      "source": [
        "<a href=\"https://colab.research.google.com/github/patlollalak/Laxma_projects/blob/master/decisionTree_fast_car.ipynb\" target=\"_parent\"><img src=\"https://colab.research.google.com/assets/colab-badge.svg\" alt=\"Open In Colab\"/></a>"
      ]
    },
    {
      "cell_type": "code",
      "metadata": {
        "id": "8CMzLA8AQ_og",
        "colab_type": "code",
        "colab": {}
      },
      "source": [
        "# Ignore warnings :\n",
        "import warnings\n",
        "warnings.filterwarnings('ignore')\n",
        "\n",
        "\n",
        "# Handle table-like data and matrices :\n",
        "import numpy as np\n",
        "import pandas as pd\n",
        "import math \n",
        "\n",
        "\n",
        "\n",
        "# Modelling Algorithms :\n",
        "\n",
        "# Classification\n",
        "from sklearn.tree import DecisionTreeClassifier\n",
        "from sklearn.linear_model import LogisticRegression\n",
        "from sklearn.neighbors import KNeighborsClassifier\n",
        "from sklearn.naive_bayes import GaussianNB\n",
        "from sklearn.svm import SVC, LinearSVC\n",
        "from sklearn.ensemble import RandomForestClassifier , GradientBoostingClassifier\n",
        "from sklearn.discriminant_analysis import LinearDiscriminantAnalysis , QuadraticDiscriminantAnalysis\n",
        "\n",
        "# Regression\n",
        "from sklearn.linear_model import LinearRegression,Ridge,Lasso,RidgeCV, ElasticNet\n",
        "from sklearn.ensemble import RandomForestRegressor,BaggingRegressor,GradientBoostingRegressor,AdaBoostRegressor \n",
        "from sklearn.svm import SVR\n",
        "from sklearn.neighbors import KNeighborsRegressor\n",
        "from sklearn.neural_network import MLPRegressor\n",
        "\n",
        "\n",
        "\n",
        "\n",
        "# Modelling Helpers :\n",
        "#from sklearn.preprocessing import Imputer , Normalizer , scale\n",
        "from sklearn.model_selection import train_test_split\n",
        "from sklearn.feature_selection import RFECV\n",
        "from sklearn.model_selection import GridSearchCV , KFold , cross_val_score\n",
        "import statsmodels.api as sm\n",
        "\n",
        "#preprocessing :\n",
        "from sklearn.preprocessing import MinMaxScaler , StandardScaler, LabelEncoder\n",
        "\n",
        "\n",
        "\n",
        "#evaluation metrics :\n",
        "\n",
        "# Regression\n",
        "from sklearn.metrics import mean_squared_log_error,mean_squared_error, r2_score,mean_absolute_error \n",
        "\n",
        "# Classification\n",
        "from sklearn.metrics import accuracy_score,precision_score,recall_score,f1_score ,classification_report ,confusion_matrix\n",
        "\n",
        "\n",
        "\n",
        "# Visualisation\n",
        "import matplotlib as mpl\n",
        "import matplotlib.pyplot as plt\n",
        "import matplotlib.pylab as pylab\n",
        "import seaborn as sns\n",
        "import missingno as msno\n",
        "import os\n",
        "import io\n"
      ],
      "execution_count": 0,
      "outputs": []
    },
    {
      "cell_type": "code",
      "metadata": {
        "id": "KDpnAWmjQbEI",
        "colab_type": "code",
        "colab": {}
      },
      "source": [
        "from google.colab import files\n",
        "uploaded = files.upload()"
      ],
      "execution_count": 0,
      "outputs": []
    },
    {
      "cell_type": "code",
      "metadata": {
        "id": "LtiEKnhBQhT7",
        "colab_type": "code",
        "colab": {}
      },
      "source": [
        "\n",
        "df = pd.read_excel(io.BytesIO(uploaded['fast_car.xlsx']),sheet_name='Sheet1') "
      ],
      "execution_count": 0,
      "outputs": []
    },
    {
      "cell_type": "code",
      "metadata": {
        "id": "7Z-hoNiiROVA",
        "colab_type": "code",
        "outputId": "610afe04-cab4-4181-be50-df7bb9595992",
        "colab": {
          "base_uri": "https://localhost:8080/",
          "height": 204
        }
      },
      "source": [
        "df.head()"
      ],
      "execution_count": 37,
      "outputs": [
        {
          "output_type": "execute_result",
          "data": {
            "text/html": [
              "<div>\n",
              "<style scoped>\n",
              "    .dataframe tbody tr th:only-of-type {\n",
              "        vertical-align: middle;\n",
              "    }\n",
              "\n",
              "    .dataframe tbody tr th {\n",
              "        vertical-align: top;\n",
              "    }\n",
              "\n",
              "    .dataframe thead th {\n",
              "        text-align: right;\n",
              "    }\n",
              "</style>\n",
              "<table border=\"1\" class=\"dataframe\">\n",
              "  <thead>\n",
              "    <tr style=\"text-align: right;\">\n",
              "      <th></th>\n",
              "      <th>Model</th>\n",
              "      <th>Engine</th>\n",
              "      <th>Turbo</th>\n",
              "      <th>Weight</th>\n",
              "      <th>Fuel_Eco</th>\n",
              "      <th>Fast</th>\n",
              "    </tr>\n",
              "  </thead>\n",
              "  <tbody>\n",
              "    <tr>\n",
              "      <th>0</th>\n",
              "      <td>Prius</td>\n",
              "      <td>small</td>\n",
              "      <td>no</td>\n",
              "      <td>average</td>\n",
              "      <td>good</td>\n",
              "      <td>no</td>\n",
              "    </tr>\n",
              "    <tr>\n",
              "      <th>1</th>\n",
              "      <td>Civic</td>\n",
              "      <td>small</td>\n",
              "      <td>no</td>\n",
              "      <td>light</td>\n",
              "      <td>average</td>\n",
              "      <td>no</td>\n",
              "    </tr>\n",
              "    <tr>\n",
              "      <th>2</th>\n",
              "      <td>WRX STI</td>\n",
              "      <td>small</td>\n",
              "      <td>yes</td>\n",
              "      <td>average</td>\n",
              "      <td>bad</td>\n",
              "      <td>yes</td>\n",
              "    </tr>\n",
              "    <tr>\n",
              "      <th>3</th>\n",
              "      <td>M3</td>\n",
              "      <td>medium</td>\n",
              "      <td>no</td>\n",
              "      <td>heavy</td>\n",
              "      <td>bad</td>\n",
              "      <td>yes</td>\n",
              "    </tr>\n",
              "    <tr>\n",
              "      <th>4</th>\n",
              "      <td>RS4</td>\n",
              "      <td>large</td>\n",
              "      <td>no</td>\n",
              "      <td>average</td>\n",
              "      <td>bad</td>\n",
              "      <td>yes</td>\n",
              "    </tr>\n",
              "  </tbody>\n",
              "</table>\n",
              "</div>"
            ],
            "text/plain": [
              "     Model  Engine Turbo   Weight Fuel_Eco Fast\n",
              "0    Prius   small    no  average     good   no\n",
              "1    Civic   small    no    light  average   no\n",
              "2  WRX STI   small   yes  average      bad  yes\n",
              "3       M3  medium    no    heavy      bad  yes\n",
              "4      RS4   large    no  average      bad  yes"
            ]
          },
          "metadata": {
            "tags": []
          },
          "execution_count": 37
        }
      ]
    },
    {
      "cell_type": "code",
      "metadata": {
        "id": "IDvAnLPZRbtw",
        "colab_type": "code",
        "colab": {}
      },
      "source": [
        "df.drop('Model',axis=1,inplace=True)"
      ],
      "execution_count": 0,
      "outputs": []
    },
    {
      "cell_type": "code",
      "metadata": {
        "id": "YB5simldRj6r",
        "colab_type": "code",
        "colab": {}
      },
      "source": [
        "df1=pd.get_dummies(df.drop('Fast',axis=1))"
      ],
      "execution_count": 0,
      "outputs": []
    },
    {
      "cell_type": "code",
      "metadata": {
        "id": "XW7ubE4STbhk",
        "colab_type": "code",
        "colab": {
          "base_uri": "https://localhost:8080/",
          "height": 204
        },
        "outputId": "025b5d7c-5e01-4bc1-95c0-d3685cadeb11"
      },
      "source": [
        "df1.head()"
      ],
      "execution_count": 41,
      "outputs": [
        {
          "output_type": "execute_result",
          "data": {
            "text/html": [
              "<div>\n",
              "<style scoped>\n",
              "    .dataframe tbody tr th:only-of-type {\n",
              "        vertical-align: middle;\n",
              "    }\n",
              "\n",
              "    .dataframe tbody tr th {\n",
              "        vertical-align: top;\n",
              "    }\n",
              "\n",
              "    .dataframe thead th {\n",
              "        text-align: right;\n",
              "    }\n",
              "</style>\n",
              "<table border=\"1\" class=\"dataframe\">\n",
              "  <thead>\n",
              "    <tr style=\"text-align: right;\">\n",
              "      <th></th>\n",
              "      <th>Engine_large</th>\n",
              "      <th>Engine_medium</th>\n",
              "      <th>Engine_small</th>\n",
              "      <th>Turbo_no</th>\n",
              "      <th>Turbo_yes</th>\n",
              "      <th>Weight_average</th>\n",
              "      <th>Weight_heavy</th>\n",
              "      <th>Weight_light</th>\n",
              "      <th>Fuel_Eco_average</th>\n",
              "      <th>Fuel_Eco_bad</th>\n",
              "      <th>Fuel_Eco_good</th>\n",
              "    </tr>\n",
              "  </thead>\n",
              "  <tbody>\n",
              "    <tr>\n",
              "      <th>0</th>\n",
              "      <td>0</td>\n",
              "      <td>0</td>\n",
              "      <td>1</td>\n",
              "      <td>1</td>\n",
              "      <td>0</td>\n",
              "      <td>1</td>\n",
              "      <td>0</td>\n",
              "      <td>0</td>\n",
              "      <td>0</td>\n",
              "      <td>0</td>\n",
              "      <td>1</td>\n",
              "    </tr>\n",
              "    <tr>\n",
              "      <th>1</th>\n",
              "      <td>0</td>\n",
              "      <td>0</td>\n",
              "      <td>1</td>\n",
              "      <td>1</td>\n",
              "      <td>0</td>\n",
              "      <td>0</td>\n",
              "      <td>0</td>\n",
              "      <td>1</td>\n",
              "      <td>1</td>\n",
              "      <td>0</td>\n",
              "      <td>0</td>\n",
              "    </tr>\n",
              "    <tr>\n",
              "      <th>2</th>\n",
              "      <td>0</td>\n",
              "      <td>0</td>\n",
              "      <td>1</td>\n",
              "      <td>0</td>\n",
              "      <td>1</td>\n",
              "      <td>1</td>\n",
              "      <td>0</td>\n",
              "      <td>0</td>\n",
              "      <td>0</td>\n",
              "      <td>1</td>\n",
              "      <td>0</td>\n",
              "    </tr>\n",
              "    <tr>\n",
              "      <th>3</th>\n",
              "      <td>0</td>\n",
              "      <td>1</td>\n",
              "      <td>0</td>\n",
              "      <td>1</td>\n",
              "      <td>0</td>\n",
              "      <td>0</td>\n",
              "      <td>1</td>\n",
              "      <td>0</td>\n",
              "      <td>0</td>\n",
              "      <td>1</td>\n",
              "      <td>0</td>\n",
              "    </tr>\n",
              "    <tr>\n",
              "      <th>4</th>\n",
              "      <td>1</td>\n",
              "      <td>0</td>\n",
              "      <td>0</td>\n",
              "      <td>1</td>\n",
              "      <td>0</td>\n",
              "      <td>1</td>\n",
              "      <td>0</td>\n",
              "      <td>0</td>\n",
              "      <td>0</td>\n",
              "      <td>1</td>\n",
              "      <td>0</td>\n",
              "    </tr>\n",
              "  </tbody>\n",
              "</table>\n",
              "</div>"
            ],
            "text/plain": [
              "   Engine_large  Engine_medium  ...  Fuel_Eco_bad  Fuel_Eco_good\n",
              "0             0              0  ...             0              1\n",
              "1             0              0  ...             0              0\n",
              "2             0              0  ...             1              0\n",
              "3             0              1  ...             1              0\n",
              "4             1              0  ...             1              0\n",
              "\n",
              "[5 rows x 11 columns]"
            ]
          },
          "metadata": {
            "tags": []
          },
          "execution_count": 41
        }
      ]
    },
    {
      "cell_type": "code",
      "metadata": {
        "id": "OZODr5PhTbke",
        "colab_type": "code",
        "colab": {}
      },
      "source": [
        "x=df1\n",
        "y=df.Fast"
      ],
      "execution_count": 0,
      "outputs": []
    },
    {
      "cell_type": "code",
      "metadata": {
        "id": "lyZV-jzRTbnO",
        "colab_type": "code",
        "colab": {}
      },
      "source": [
        "LE=LabelEncoder()\n",
        "y=LE.fit_transform(y)"
      ],
      "execution_count": 0,
      "outputs": []
    },
    {
      "cell_type": "code",
      "metadata": {
        "id": "tYpo7WwiTbqZ",
        "colab_type": "code",
        "colab": {}
      },
      "source": [
        "x_train,x_test,y_train,y_test=train_test_split(x,y,test_size=.20)"
      ],
      "execution_count": 0,
      "outputs": []
    },
    {
      "cell_type": "code",
      "metadata": {
        "id": "U5QNN_6DTbs_",
        "colab_type": "code",
        "colab": {
          "base_uri": "https://localhost:8080/",
          "height": 119
        },
        "outputId": "57b9448a-92e7-438a-fac2-4d431e1c222e"
      },
      "source": [
        "dt_entropy=DecisionTreeClassifier(criterion='entropy')\n",
        "dt_entropy.fit(x_train,y_train)"
      ],
      "execution_count": 60,
      "outputs": [
        {
          "output_type": "execute_result",
          "data": {
            "text/plain": [
              "DecisionTreeClassifier(class_weight=None, criterion='entropy', max_depth=None,\n",
              "                       max_features=None, max_leaf_nodes=None,\n",
              "                       min_impurity_decrease=0.0, min_impurity_split=None,\n",
              "                       min_samples_leaf=1, min_samples_split=2,\n",
              "                       min_weight_fraction_leaf=0.0, presort=False,\n",
              "                       random_state=None, splitter='best')"
            ]
          },
          "metadata": {
            "tags": []
          },
          "execution_count": 60
        }
      ]
    },
    {
      "cell_type": "code",
      "metadata": {
        "id": "4phQwIBtTbv6",
        "colab_type": "code",
        "colab": {}
      },
      "source": [
        "y_pred=dt_entropy.predict(x_train)"
      ],
      "execution_count": 0,
      "outputs": []
    },
    {
      "cell_type": "code",
      "metadata": {
        "id": "qukF8x4sTbyp",
        "colab_type": "code",
        "colab": {
          "base_uri": "https://localhost:8080/",
          "height": 170
        },
        "outputId": "f2b8acf8-68b6-452a-ceb6-3c7edc862c4a"
      },
      "source": [
        "print(classification_report(y_train,y_pred))"
      ],
      "execution_count": 68,
      "outputs": [
        {
          "output_type": "stream",
          "text": [
            "              precision    recall  f1-score   support\n",
            "\n",
            "           0       0.89      1.00      0.94         8\n",
            "           1       1.00      0.75      0.86         4\n",
            "\n",
            "    accuracy                           0.92        12\n",
            "   macro avg       0.94      0.88      0.90        12\n",
            "weighted avg       0.93      0.92      0.91        12\n",
            "\n"
          ],
          "name": "stdout"
        }
      ]
    },
    {
      "cell_type": "code",
      "metadata": {
        "id": "BzVZNeH7Tb1i",
        "colab_type": "code",
        "colab": {
          "base_uri": "https://localhost:8080/",
          "height": 51
        },
        "outputId": "fb34d6ec-3456-495a-daa5-5c586f1237cd"
      },
      "source": [
        "confusion_matrix(y_train,y_pred)"
      ],
      "execution_count": 63,
      "outputs": [
        {
          "output_type": "execute_result",
          "data": {
            "text/plain": [
              "array([[8, 0],\n",
              "       [1, 3]])"
            ]
          },
          "metadata": {
            "tags": []
          },
          "execution_count": 63
        }
      ]
    },
    {
      "cell_type": "code",
      "metadata": {
        "id": "nCk7Y3tATb4q",
        "colab_type": "code",
        "colab": {
          "base_uri": "https://localhost:8080/",
          "height": 119
        },
        "outputId": "c6dacd08-2b0c-4b40-8b74-bd667e5ea7f7"
      },
      "source": [
        "dt_gini=DecisionTreeClassifier(criterion='gini')\n",
        "dt_entropy.fit(x_train,y_train)"
      ],
      "execution_count": 64,
      "outputs": [
        {
          "output_type": "execute_result",
          "data": {
            "text/plain": [
              "DecisionTreeClassifier(class_weight=None, criterion='entropy', max_depth=None,\n",
              "                       max_features=None, max_leaf_nodes=None,\n",
              "                       min_impurity_decrease=0.0, min_impurity_split=None,\n",
              "                       min_samples_leaf=1, min_samples_split=2,\n",
              "                       min_weight_fraction_leaf=0.0, presort=False,\n",
              "                       random_state=None, splitter='best')"
            ]
          },
          "metadata": {
            "tags": []
          },
          "execution_count": 64
        }
      ]
    },
    {
      "cell_type": "code",
      "metadata": {
        "id": "oWtXQ9RqTb7k",
        "colab_type": "code",
        "colab": {
          "base_uri": "https://localhost:8080/",
          "height": 119
        },
        "outputId": "8d36d618-2e05-4789-ecd1-236804a42a83"
      },
      "source": [
        "dt_gini.fit(x_train,y_train)"
      ],
      "execution_count": 66,
      "outputs": [
        {
          "output_type": "execute_result",
          "data": {
            "text/plain": [
              "DecisionTreeClassifier(class_weight=None, criterion='gini', max_depth=None,\n",
              "                       max_features=None, max_leaf_nodes=None,\n",
              "                       min_impurity_decrease=0.0, min_impurity_split=None,\n",
              "                       min_samples_leaf=1, min_samples_split=2,\n",
              "                       min_weight_fraction_leaf=0.0, presort=False,\n",
              "                       random_state=None, splitter='best')"
            ]
          },
          "metadata": {
            "tags": []
          },
          "execution_count": 66
        }
      ]
    },
    {
      "cell_type": "code",
      "metadata": {
        "id": "yR7ZpLT0a-Lq",
        "colab_type": "code",
        "colab": {}
      },
      "source": [
        "y_pred=dt_gini.predict(x_train)"
      ],
      "execution_count": 0,
      "outputs": []
    },
    {
      "cell_type": "code",
      "metadata": {
        "id": "Z5AwhDe2bRGa",
        "colab_type": "code",
        "colab": {
          "base_uri": "https://localhost:8080/",
          "height": 170
        },
        "outputId": "13a468e1-b316-4588-b4d4-9b035509571e"
      },
      "source": [
        "print(classification_report(y_train,y_pred))"
      ],
      "execution_count": 72,
      "outputs": [
        {
          "output_type": "stream",
          "text": [
            "              precision    recall  f1-score   support\n",
            "\n",
            "           0       0.89      1.00      0.94         8\n",
            "           1       1.00      0.75      0.86         4\n",
            "\n",
            "    accuracy                           0.92        12\n",
            "   macro avg       0.94      0.88      0.90        12\n",
            "weighted avg       0.93      0.92      0.91        12\n",
            "\n"
          ],
          "name": "stdout"
        }
      ]
    },
    {
      "cell_type": "code",
      "metadata": {
        "id": "lLV-sPmybYNd",
        "colab_type": "code",
        "colab": {}
      },
      "source": [
        "# Visualizing the DTREE by using Entrop Criterion\n",
        "\n",
        "from IPython.display import Image  \n",
        "from sklearn import tree\n",
        "import pydotplus"
      ],
      "execution_count": 0,
      "outputs": []
    },
    {
      "cell_type": "code",
      "metadata": {
        "id": "L44QCyezci80",
        "colab_type": "code",
        "colab": {}
      },
      "source": [
        ""
      ],
      "execution_count": 0,
      "outputs": []
    },
    {
      "cell_type": "code",
      "metadata": {
        "id": "Ae9989H4cBEy",
        "colab_type": "code",
        "colab": {}
      },
      "source": [
        "tree.export_graphviz(dt_entropy,out_file='fast_car.odt',f\n",
        "                     illed=True,feature_names=x.columns,class_names=['yes','no'])"
      ],
      "execution_count": 0,
      "outputs": []
    },
    {
      "cell_type": "code",
      "metadata": {
        "id": "HezKYMqXc1wF",
        "colab_type": "code",
        "colab": {}
      },
      "source": [
        "file=pydotplus.graph_from_dot_file('fast_car.odt')"
      ],
      "execution_count": 0,
      "outputs": []
    },
    {
      "cell_type": "code",
      "metadata": {
        "id": "DUlfW3ygc-N0",
        "colab_type": "code",
        "colab": {
          "base_uri": "https://localhost:8080/",
          "height": 34
        },
        "outputId": "2ef4227a-aeef-44b6-c333-af5ea49b6001"
      },
      "source": [
        "file.write_jpg('fast_car.jpg')\n",
        "file.write_pdf('fast_car.pdf')"
      ],
      "execution_count": 82,
      "outputs": [
        {
          "output_type": "execute_result",
          "data": {
            "text/plain": [
              "True"
            ]
          },
          "metadata": {
            "tags": []
          },
          "execution_count": 82
        }
      ]
    },
    {
      "cell_type": "code",
      "metadata": {
        "id": "xOH-4Cr2dGEz",
        "colab_type": "code",
        "colab": {
          "base_uri": "https://localhost:8080/",
          "height": 51
        },
        "outputId": "6e2b6437-11eb-4f29-817a-438d34e2b8d4"
      },
      "source": [
        "ls"
      ],
      "execution_count": 83,
      "outputs": [
        {
          "output_type": "stream",
          "text": [
            "'fast_car (1).xlsx'   fast_car.jpg   fast_car.pdf    \u001b[0m\u001b[01;34msample_data\u001b[0m/\n",
            "'fast_car (2).xlsx'   fast_car.odt   fast_car.xlsx\n"
          ],
          "name": "stdout"
        }
      ]
    },
    {
      "cell_type": "markdown",
      "metadata": {
        "id": "efzVjvtLmg9U",
        "colab_type": "text"
      },
      "source": [
        "![img]('fast_car.pdf')"
      ]
    },
    {
      "cell_type": "code",
      "metadata": {
        "id": "JGSCQMO6gWm_",
        "colab_type": "code",
        "colab": {
          "base_uri": "https://localhost:8080/",
          "height": 34
        },
        "outputId": "7723efb8-ac3c-409b-f657-d0ca9e2a460e"
      },
      "source": [
        "# DTREE visualization using Gini Criterion\n",
        "\n",
        "\n",
        "tree.export_graphviz(dt_gini,out_file='fast_car1.odt',\n",
        "                     filled=True,feature_names=x.columns,class_names=['yes','no'])\n",
        "file=pydotplus.graph_from_dot_file('fast_car1.odt')\n",
        "file.write_jpg('fast_car1.jpg')\n",
        "file.write_pdf('fast_car1.pdf')"
      ],
      "execution_count": 90,
      "outputs": [
        {
          "output_type": "execute_result",
          "data": {
            "text/plain": [
              "True"
            ]
          },
          "metadata": {
            "tags": []
          },
          "execution_count": 90
        }
      ]
    },
    {
      "cell_type": "code",
      "metadata": {
        "id": "BhiV1Sr-nWyr",
        "colab_type": "code",
        "colab": {}
      },
      "source": [
        "feam=dt_entropy.feature_importances_\n",
        "feam_im=pd.Series(feam,index=x.columns)"
      ],
      "execution_count": 0,
      "outputs": []
    },
    {
      "cell_type": "code",
      "metadata": {
        "id": "LCgp6JmAnWvf",
        "colab_type": "code",
        "colab": {
          "base_uri": "https://localhost:8080/",
          "height": 282
        },
        "outputId": "137be048-f510-48da-9d8e-ae4884fa7d57"
      },
      "source": [
        "feam_im.sort_values().plot('barh')"
      ],
      "execution_count": 98,
      "outputs": [
        {
          "output_type": "execute_result",
          "data": {
            "text/plain": [
              "<matplotlib.axes._subplots.AxesSubplot at 0x7f8295277198>"
            ]
          },
          "metadata": {
            "tags": []
          },
          "execution_count": 98
        },
        {
          "output_type": "display_data",
          "data": {
            "image/png": "[encoded data removed]",
            "text/plain": [
              "<Figure size 432x288 with 1 Axes>"
            ]
          },
          "metadata": {
            "tags": []
          }
        }
      ]
    },
    {
      "cell_type": "code",
      "metadata": {
        "id": "laZIf0SOnWsR",
        "colab_type": "code",
        "colab": {}
      },
      "source": [
        "feam=dt_gini.feature_importances_\n",
        "feam_im=pd.Series(feam,index=x.columns)"
      ],
      "execution_count": 0,
      "outputs": []
    },
    {
      "cell_type": "code",
      "metadata": {
        "id": "oacieG1DnWo5",
        "colab_type": "code",
        "colab": {
          "base_uri": "https://localhost:8080/",
          "height": 282
        },
        "outputId": "bd96183b-c6a1-463a-af6e-e752fa6cdae5"
      },
      "source": [
        "feam_im.sort_values().plot('barh')"
      ],
      "execution_count": 100,
      "outputs": [
        {
          "output_type": "execute_result",
          "data": {
            "text/plain": [
              "<matplotlib.axes._subplots.AxesSubplot at 0x7f8295415358>"
            ]
          },
          "metadata": {
            "tags": []
          },
          "execution_count": 100
        },
        {
          "output_type": "display_data",
          "data": {
            "image/png": "[encoded data removed]",
            "text/plain": [
              "<Figure size 432x288 with 1 Axes>"
            ]
          },
          "metadata": {
            "tags": []
          }
        }
      ]
    },
    {
      "cell_type": "code",
      "metadata": {
        "id": "XqWl68g9nWlt",
        "colab_type": "code",
        "colab": {}
      },
      "source": [
        ""
      ],
      "execution_count": 0,
      "outputs": []
    },
    {
      "cell_type": "code",
      "metadata": {
        "id": "JJYNXBH2nWih",
        "colab_type": "code",
        "colab": {}
      },
      "source": [
        ""
      ],
      "execution_count": 0,
      "outputs": []
    },
    {
      "cell_type": "code",
      "metadata": {
        "id": "uMFFsHJcnWfZ",
        "colab_type": "code",
        "colab": {}
      },
      "source": [
        ""
      ],
      "execution_count": 0,
      "outputs": []
    },
    {
      "cell_type": "code",
      "metadata": {
        "id": "gvn1S53lnWb7",
        "colab_type": "code",
        "colab": {}
      },
      "source": [
        ""
      ],
      "execution_count": 0,
      "outputs": []
    },
    {
      "cell_type": "code",
      "metadata": {
        "id": "XA3A6StVnWYx",
        "colab_type": "code",
        "colab": {}
      },
      "source": [
        ""
      ],
      "execution_count": 0,
      "outputs": []
    },
    {
      "cell_type": "code",
      "metadata": {
        "id": "UkoLkO5xnWUv",
        "colab_type": "code",
        "colab": {}
      },
      "source": [
        ""
      ],
      "execution_count": 0,
      "outputs": []
    },
    {
      "cell_type": "code",
      "metadata": {
        "id": "wGcvGNARhRMO",
        "colab_type": "code",
        "colab": {}
      },
      "source": [
        ""
      ],
      "execution_count": 0,
      "outputs": []
    }
  ]
}